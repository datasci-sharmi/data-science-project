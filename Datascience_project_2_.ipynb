{
  "nbformat": 4,
  "nbformat_minor": 0,
  "metadata": {
    "colab": {
      "provenance": [],
      "authorship_tag": "ABX9TyPHO9PECXd0afNun1/6O+Bl",
      "include_colab_link": true
    },
    "kernelspec": {
      "name": "python3",
      "display_name": "Python 3"
    },
    "language_info": {
      "name": "python"
    }
  },
  "cells": [
    {
      "cell_type": "markdown",
      "metadata": {
        "id": "view-in-github",
        "colab_type": "text"
      },
      "source": [
        "<a href=\"https://colab.research.google.com/github/datasci-sharmi/data-science-project/blob/main/Datascience_project_2_.ipynb\" target=\"_parent\"><img src=\"https://colab.research.google.com/assets/colab-badge.svg\" alt=\"Open In Colab\"/></a>"
      ]
    },
    {
      "cell_type": "code",
      "execution_count": 4,
      "metadata": {
        "colab": {
          "base_uri": "https://localhost:8080/"
        },
        "id": "2UrtaBRS5Dd3",
        "outputId": "df2c120f-24fa-47e4-e565-c26f271e39ca"
      },
      "outputs": [
        {
          "output_type": "stream",
          "name": "stdout",
          "text": [
            "Dataset Head:\n",
            "   Survived  Pclass                                               Name  \\\n",
            "0         0       3                             Mr. Owen Harris Braund   \n",
            "1         1       1  Mrs. John Bradley (Florence Briggs Thayer) Cum...   \n",
            "2         1       3                              Miss. Laina Heikkinen   \n",
            "3         1       1        Mrs. Jacques Heath (Lily May Peel) Futrelle   \n",
            "4         0       3                            Mr. William Henry Allen   \n",
            "\n",
            "      Sex   Age  Siblings/Spouses Aboard  Parents/Children Aboard     Fare  \n",
            "0    male  22.0                        1                        0   7.2500  \n",
            "1  female  38.0                        1                        0  71.2833  \n",
            "2  female  26.0                        0                        0   7.9250  \n",
            "3  female  35.0                        1                        0  53.1000  \n",
            "4    male  35.0                        0                        0   8.0500  \n",
            "\n",
            "Initial shape: (887, 8)\n",
            "\n",
            "Missing values before handling:\n",
            "Survived                   0\n",
            "Pclass                     0\n",
            "Name                       0\n",
            "Sex                        0\n",
            "Age                        0\n",
            "Siblings/Spouses Aboard    0\n",
            "Parents/Children Aboard    0\n",
            "Fare                       0\n",
            "dtype: int64\n",
            "\n",
            "Duplicates removed: 0\n",
            "\n",
            "Cleaned dataset info:\n",
            "<class 'pandas.core.frame.DataFrame'>\n",
            "RangeIndex: 887 entries, 0 to 886\n",
            "Data columns (total 8 columns):\n",
            " #   Column                   Non-Null Count  Dtype  \n",
            "---  ------                   --------------  -----  \n",
            " 0   Survived                 887 non-null    int64  \n",
            " 1   Pclass                   887 non-null    int64  \n",
            " 2   Name                     887 non-null    object \n",
            " 3   Sex                      887 non-null    int64  \n",
            " 4   Age                      887 non-null    float64\n",
            " 5   Siblings/Spouses Aboard  887 non-null    int64  \n",
            " 6   Parents/Children Aboard  887 non-null    int64  \n",
            " 7   Fare                     887 non-null    float64\n",
            "dtypes: float64(2), int64(5), object(1)\n",
            "memory usage: 55.6+ KB\n",
            "None\n",
            "\n",
            "Sample after cleaning:\n",
            "   Survived  Pclass                                               Name  Sex  \\\n",
            "0         0       3                             Mr. Owen Harris Braund    0   \n",
            "1         1       1  Mrs. John Bradley (Florence Briggs Thayer) Cum...    1   \n",
            "2         1       3                              Miss. Laina Heikkinen    1   \n",
            "3         1       1        Mrs. Jacques Heath (Lily May Peel) Futrelle    1   \n",
            "4         0       3                            Mr. William Henry Allen    0   \n",
            "\n",
            "    Age  Siblings/Spouses Aboard  Parents/Children Aboard     Fare  \n",
            "0  22.0                        1                        0   7.2500  \n",
            "1  38.0                        1                        0  71.2833  \n",
            "2  26.0                        0                        0   7.9250  \n",
            "3  35.0                        1                        0  53.1000  \n",
            "4  35.0                        0                        0   8.0500  \n"
          ]
        },
        {
          "output_type": "stream",
          "name": "stderr",
          "text": [
            "/tmp/ipython-input-393778658.py:23: FutureWarning: A value is trying to be set on a copy of a DataFrame or Series through chained assignment using an inplace method.\n",
            "The behavior will change in pandas 3.0. This inplace method will never work because the intermediate object on which we are setting values always behaves as a copy.\n",
            "\n",
            "For example, when doing 'df[col].method(value, inplace=True)', try using 'df.method({col: value}, inplace=True)' or df[col] = df[col].method(value) instead, to perform the operation inplace on the original object.\n",
            "\n",
            "\n",
            "  df['Age'].fillna(df['Age'].median(), inplace=True)\n"
          ]
        }
      ],
      "source": [
        "# Task 2: Data Cleaning & Preprocessing - Titanic Dataset (Stanford version)\n",
        "\n",
        "import pandas as pd\n",
        "\n",
        "# Load dataset\n",
        "url = \"https://web.stanford.edu/class/archive/cs/cs109/cs109.1166/stuff/titanic.csv\"\n",
        "df = pd.read_csv(url)\n",
        "\n",
        "# Display first few rows\n",
        "print(\"Dataset Head:\")\n",
        "print(df.head())\n",
        "\n",
        "print(\"\\nInitial shape:\", df.shape)\n",
        "\n",
        "# --------------------\n",
        "# 1. Handle Missing Values\n",
        "# --------------------\n",
        "print(\"\\nMissing values before handling:\")\n",
        "print(df.isnull().sum())\n",
        "\n",
        "# Fill missing 'Age' with median\n",
        "if \"Age\" in df.columns:\n",
        "    df['Age'].fillna(df['Age'].median(), inplace=True)\n",
        "\n",
        "# --------------------\n",
        "# 2. Remove Duplicates\n",
        "# --------------------\n",
        "before = df.shape[0]\n",
        "df.drop_duplicates(inplace=True)\n",
        "after = df.shape[0]\n",
        "print(f\"\\nDuplicates removed: {before - after}\")\n",
        "\n",
        "# --------------------\n",
        "# 3. Encode Categorical Variables\n",
        "# --------------------\n",
        "# Encode 'Sex' (Male/Female → 0/1)\n",
        "if \"Sex\" in df.columns:\n",
        "    df['Sex'] = df['Sex'].map({'male': 0, 'female': 1})\n",
        "\n",
        "# (No 'Embarked' column in this dataset, so we skip it)\n",
        "\n",
        "# --------------------\n",
        "# Final Check\n",
        "# --------------------\n",
        "print(\"\\nCleaned dataset info:\")\n",
        "print(df.info())\n",
        "\n",
        "print(\"\\nSample after cleaning:\")\n",
        "print(df.head())\n"
      ]
    }
  ]
}